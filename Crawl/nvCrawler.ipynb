{
  "cells": [
    {
      "cell_type": "code",
      "execution_count": 1,
      "metadata": {
        "colab": {
          "base_uri": "https://localhost:8080/"
        },
        "id": "EsOS_hmVtfr_",
        "outputId": "14e44eca-449b-425e-ce04-b7094ea49997"
      },
      "outputs": [
        {
          "name": "stdout",
          "output_type": "stream",
          "text": [
            "검색어를 입력하세요: 차진우\n",
            "[2023-09-20 00:17:21.285533] Url Request Success\n",
            "[2023-09-20 00:17:22.442207] Url Request Success\n",
            "[2023-09-20 00:17:23.621226] Url Request Success\n",
            "[2023-09-20 00:17:24.763098] Url Request Success\n",
            "[2023-09-20 00:17:25.945008] Url Request Success\n",
            "[2023-09-20 00:17:27.150613] Url Request Success\n",
            "[2023-09-20 00:17:28.116954] Url Request Success\n",
            "전체 검색 : 576 건\n",
            "가져온 데이터 : 576 건\n",
            "차진우_naver_news.json SAVED\n"
          ]
        }
      ],
      "source": [
        "import os\n",
        "import sys\n",
        "import urllib.request\n",
        "import datetime\n",
        "import time\n",
        "import json\n",
        "\n",
        "client_id = ''\n",
        "client_secret = ''\n",
        "\n",
        "#[CODE 1]\n",
        "def getRequestUrl(url):\n",
        "  req = urllib.request.Request(url)\n",
        "  req.add_header(\"X-Naver-Client-Id\", client_id)\n",
        "  req.add_header(\"X-Naver-Client-Secret\", client_secret)\n",
        "  try:\n",
        "    response = urllib.request.urlopen(req)\n",
        "    if response.getcode() == 200:\n",
        "      print(\"[%s] Url Request Success\" % datetime.datetime.now())\n",
        "      return response.read().decode('utf-8')\n",
        "\n",
        "  except Exception as e:\n",
        "    print(e)\n",
        "    print(\"\\n[%s] Error for URL : %s\\n\" % (datetime.datetime.now(), url))\n",
        "    return None\n",
        "\n",
        "#[CODE 2]\n",
        "def getNaverSearch(node, srcText, start, display):\n",
        "  base = \"https://openapi.naver.com/v1/search\"\n",
        "  node = \"/%s.json\" % node\n",
        "  parameters = \"?query=%s&start=%s&display=%s\" %(urllib.parse.quote(srcText), start, display)\n",
        "  url = base + node + parameters\n",
        "  responseDecode = getRequestUrl(url) #[CODE 1]\n",
        "  if (responseDecode == None):\n",
        "    return None\n",
        "  else:\n",
        "    return json.loads(responseDecode)\n",
        "\n",
        "#[CODE 3]\n",
        "def getPostData(post, jsonResult, cnt):\n",
        "  title = post['title']\n",
        "  description = post['description']\n",
        "  org_link = post['originallink']\n",
        "  link = post['link']\n",
        "  pDate = datetime.datetime.strptime(post['pubDate'], '%a, %d %b %Y %H:%M:%S +0900')\n",
        "  pDate = pDate.strftime('%Y-%m-%d %H:%M:%S')\n",
        "  jsonResult.append({'cnt':cnt, 'title':title, 'description': description,\n",
        "  'org_link':org_link, 'link': org_link, 'pDate':pDate})\n",
        "  return\n",
        "\n",
        "#[CODE 0]\n",
        "def main():\n",
        "  node = 'news' #크롤링할 대상\n",
        "  srcText = input('검색어를 입력하세요: ')\n",
        "  cnt = 0\n",
        "  jsonResult = []\n",
        "  jsonResponse = getNaverSearch(node, srcText, 1, 100) #[CODE 2]\n",
        "  total = jsonResponse['total']\n",
        "\n",
        "  while ((jsonResponse != None) and (jsonResponse['display'] != 0)):\n",
        "    for post in jsonResponse['items']:\n",
        "      cnt += 1\n",
        "      getPostData(post, jsonResult, cnt) #[CODE 3]\n",
        "    start = jsonResponse['start'] + jsonResponse['display']\n",
        "    jsonResponse = getNaverSearch(node, srcText, start, 100) #[CODE 2]\n",
        "  print('전체 검색 : %d 건' %total)\n",
        "\n",
        "  with open('%s_naver_%s.json' % (srcText, node), 'w', encoding='utf8') as outfile:\n",
        "    jsonFile = json.dumps(jsonResult, indent = 4, sort_keys = True, ensure_ascii = False)\n",
        "    outfile.write(jsonFile)\n",
        "  print(\"가져온 데이터 : %d 건\" %(cnt))\n",
        "  print('%s_naver_%s.json SAVED' % (srcText, node))\n",
        "\n",
        "if __name__ == '__main__':\n",
        "  main()\n"
      ]
    }
  ],
  "metadata": {
    "colab": {
      "provenance": []
    },
    "kernelspec": {
      "display_name": "Python 3",
      "name": "python3"
    },
    "language_info": {
      "name": "python"
    }
  },
  "nbformat": 4,
  "nbformat_minor": 0
}
